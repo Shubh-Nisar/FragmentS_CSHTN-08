{
 "cells": [
  {
   "cell_type": "markdown",
   "metadata": {
    "id": "LeamvpPVXuS_"
   },
   "source": [
    "# Random Forest Regression"
   ]
  },
  {
   "cell_type": "markdown",
   "metadata": {
    "id": "O2wvZ7SKXzVC"
   },
   "source": [
    "## Importing the libraries"
   ]
  },
  {
   "cell_type": "code",
   "execution_count": 86,
   "metadata": {
    "executionInfo": {
     "elapsed": 362,
     "status": "ok",
     "timestamp": 1632474401108,
     "user": {
      "displayName": "test mail",
      "photoUrl": "https://lh3.googleusercontent.com/a/default-user=s64",
      "userId": "14146835515533625183"
     },
     "user_tz": -330
    },
    "id": "PVmESEFZX4Ig"
   },
   "outputs": [],
   "source": [
    "import numpy as np\n",
    "import matplotlib.pyplot as plt\n",
    "import pandas as pd"
   ]
  },
  {
   "cell_type": "markdown",
   "metadata": {
    "id": "zgbK_F8-X7em"
   },
   "source": [
    "## Importing the dataset"
   ]
  },
  {
   "cell_type": "code",
   "execution_count": 87,
   "metadata": {
    "executionInfo": {
     "elapsed": 50,
     "status": "ok",
     "timestamp": 1632474401765,
     "user": {
      "displayName": "test mail",
      "photoUrl": "https://lh3.googleusercontent.com/a/default-user=s64",
      "userId": "14146835515533625183"
     },
     "user_tz": -330
    },
    "id": "adBE4tjQX_Bh"
   },
   "outputs": [],
   "source": [
    "dataset = pd.read_csv('test_data.csv')\n",
    "x = dataset.iloc[:, 4:-1].values\n",
    "y = dataset.iloc[:, -1].values"
   ]
  },
  {
   "cell_type": "code",
   "execution_count": 88,
   "metadata": {
    "colab": {
     "base_uri": "https://localhost:8080/"
    },
    "executionInfo": {
     "elapsed": 50,
     "status": "ok",
     "timestamp": 1632474401766,
     "user": {
      "displayName": "test mail",
      "photoUrl": "https://lh3.googleusercontent.com/a/default-user=s64",
      "userId": "14146835515533625183"
     },
     "user_tz": -330
    },
    "id": "Zueg7YeIxbUJ",
    "outputId": "de2e05d8-7388-4b2f-dd76-ad5a340207ba"
   },
   "outputs": [
    {
     "name": "stdout",
     "output_type": "stream",
     "text": [
      "[[ 492 1780]\n",
      " [1038   92]\n",
      " [1703  829]\n",
      " ...\n",
      " [ 289 1352]\n",
      " [ 282 1143]\n",
      " [1496  924]]\n"
     ]
    }
   ],
   "source": [
    "print(x)"
   ]
  },
  {
   "cell_type": "code",
   "execution_count": 89,
   "metadata": {
    "colab": {
     "base_uri": "https://localhost:8080/"
    },
    "executionInfo": {
     "elapsed": 46,
     "status": "ok",
     "timestamp": 1632474401767,
     "user": {
      "displayName": "test mail",
      "photoUrl": "https://lh3.googleusercontent.com/a/default-user=s64",
      "userId": "14146835515533625183"
     },
     "user_tz": -330
    },
    "id": "swkjs7kJxcjk",
    "outputId": "88d38e92-bb01-4a5f-be38-904a1dd4ec40"
   },
   "outputs": [
    {
     "name": "stdout",
     "output_type": "stream",
     "text": [
      "[2 3 1 ... 2 2 1]\n"
     ]
    }
   ],
   "source": [
    "print(y)"
   ]
  },
  {
   "cell_type": "markdown",
   "metadata": {
    "id": "GFFG8L2v2qN1"
   },
   "source": [
    "## Splitting the Dataset into Training and Test Set"
   ]
  },
  {
   "cell_type": "code",
   "execution_count": 90,
   "metadata": {
    "executionInfo": {
     "elapsed": 43,
     "status": "ok",
     "timestamp": 1632474401769,
     "user": {
      "displayName": "test mail",
      "photoUrl": "https://lh3.googleusercontent.com/a/default-user=s64",
      "userId": "14146835515533625183"
     },
     "user_tz": -330
    },
    "id": "MU_cwt7z2xV0"
   },
   "outputs": [],
   "source": [
    "\n",
    "from sklearn.model_selection import train_test_split\n",
    "x_train, x_test, y_train, y_test = train_test_split(x, y, test_size = 0.20, random_state = 0)"
   ]
  },
  {
   "cell_type": "code",
   "execution_count": 91,
   "metadata": {
    "colab": {
     "base_uri": "https://localhost:8080/"
    },
    "executionInfo": {
     "elapsed": 42,
     "status": "ok",
     "timestamp": 1632474401769,
     "user": {
      "displayName": "test mail",
      "photoUrl": "https://lh3.googleusercontent.com/a/default-user=s64",
      "userId": "14146835515533625183"
     },
     "user_tz": -330
    },
    "id": "yl30Edfm20z0",
    "outputId": "a8911a75-2dae-484b-9fe4-1241e6ca1c39"
   },
   "outputs": [
    {
     "name": "stdout",
     "output_type": "stream",
     "text": [
      "[[1555  526]\n",
      " [ 301  632]\n",
      " [1501 1107]\n",
      " ...\n",
      " [1890 1269]\n",
      " [ 244 2462]\n",
      " [ 292 1621]]\n"
     ]
    }
   ],
   "source": [
    "print(x_train)"
   ]
  },
  {
   "cell_type": "code",
   "execution_count": 92,
   "metadata": {
    "colab": {
     "base_uri": "https://localhost:8080/"
    },
    "executionInfo": {
     "elapsed": 37,
     "status": "ok",
     "timestamp": 1632474401770,
     "user": {
      "displayName": "test mail",
      "photoUrl": "https://lh3.googleusercontent.com/a/default-user=s64",
      "userId": "14146835515533625183"
     },
     "user_tz": -330
    },
    "id": "O_6Oku_423pY",
    "outputId": "8832fdd8-d664-4850-ea38-fe5169ff2cae"
   },
   "outputs": [
    {
     "name": "stdout",
     "output_type": "stream",
     "text": [
      "[1 2 3 ... 4 5 4]\n"
     ]
    }
   ],
   "source": [
    "print(y_train)"
   ]
  },
  {
   "cell_type": "code",
   "execution_count": 93,
   "metadata": {
    "colab": {
     "base_uri": "https://localhost:8080/"
    },
    "executionInfo": {
     "elapsed": 36,
     "status": "ok",
     "timestamp": 1632474401772,
     "user": {
      "displayName": "test mail",
      "photoUrl": "https://lh3.googleusercontent.com/a/default-user=s64",
      "userId": "14146835515533625183"
     },
     "user_tz": -330
    },
    "id": "Z0JqGEbt24_R",
    "outputId": "f30023d0-e070-4577-d5a8-48790da419bd"
   },
   "outputs": [
    {
     "name": "stdout",
     "output_type": "stream",
     "text": [
      "[[1387 2546]\n",
      " [1322 2377]\n",
      " [ 642 1028]\n",
      " ...\n",
      " [ 104 2263]\n",
      " [ 622  819]\n",
      " [ 449 1152]]\n"
     ]
    }
   ],
   "source": [
    "print(x_test)"
   ]
  },
  {
   "cell_type": "code",
   "execution_count": 94,
   "metadata": {
    "colab": {
     "base_uri": "https://localhost:8080/"
    },
    "executionInfo": {
     "elapsed": 36,
     "status": "ok",
     "timestamp": 1632474401776,
     "user": {
      "displayName": "test mail",
      "photoUrl": "https://lh3.googleusercontent.com/a/default-user=s64",
      "userId": "14146835515533625183"
     },
     "user_tz": -330
    },
    "id": "ZzdWDY9A26a2",
    "outputId": "4d07b207-c71d-4015-e193-0076016961d1"
   },
   "outputs": [
    {
     "name": "stdout",
     "output_type": "stream",
     "text": [
      "[1 4 2 ... 3 2 2]\n"
     ]
    }
   ],
   "source": [
    "print(y_test)"
   ]
  },
  {
   "cell_type": "markdown",
   "metadata": {
    "id": "ABfD-48X3I9D"
   },
   "source": [
    "## Feature Scaling"
   ]
  },
  {
   "cell_type": "code",
   "execution_count": 95,
   "metadata": {
    "executionInfo": {
     "elapsed": 32,
     "status": "ok",
     "timestamp": 1632474401778,
     "user": {
      "displayName": "test mail",
      "photoUrl": "https://lh3.googleusercontent.com/a/default-user=s64",
      "userId": "14146835515533625183"
     },
     "user_tz": -330
    },
    "id": "AxCwbfd43K9o"
   },
   "outputs": [],
   "source": [
    "from sklearn.preprocessing import StandardScaler\n",
    "sc = StandardScaler()\n",
    "x_train = sc.fit_transform(x_train)\n",
    "x_test = sc.transform(x_test)"
   ]
  },
  {
   "cell_type": "code",
   "execution_count": 96,
   "metadata": {
    "colab": {
     "base_uri": "https://localhost:8080/"
    },
    "executionInfo": {
     "elapsed": 33,
     "status": "ok",
     "timestamp": 1632474401780,
     "user": {
      "displayName": "test mail",
      "photoUrl": "https://lh3.googleusercontent.com/a/default-user=s64",
      "userId": "14146835515533625183"
     },
     "user_tz": -330
    },
    "id": "vVa90PMI3OCe",
    "outputId": "67bc77c4-8eeb-4220-f370-3867006c1ab6"
   },
   "outputs": [
    {
     "name": "stdout",
     "output_type": "stream",
     "text": [
      "[[ 0.96853869 -1.14199639]\n",
      " [-1.20650017 -1.01896707]\n",
      " [ 0.87487673 -0.46765647]\n",
      " ...\n",
      " [ 1.54958974 -0.27963053]\n",
      " [-1.30536557  1.10502958]\n",
      " [-1.2221105   0.12891964]]\n"
     ]
    }
   ],
   "source": [
    "print(x_train)"
   ]
  },
  {
   "cell_type": "code",
   "execution_count": 97,
   "metadata": {
    "colab": {
     "base_uri": "https://localhost:8080/"
    },
    "executionInfo": {
     "elapsed": 30,
     "status": "ok",
     "timestamp": 1632474401782,
     "user": {
      "displayName": "test mail",
      "photoUrl": "https://lh3.googleusercontent.com/a/default-user=s64",
      "userId": "14146835515533625183"
     },
     "user_tz": -330
    },
    "id": "wbL3Q17L3PyD",
    "outputId": "1f8d7b1a-a2d3-4932-a82d-9d3ea1fa1333"
   },
   "outputs": [
    {
     "name": "stdout",
     "output_type": "stream",
     "text": [
      "[[ 0.67714593  1.20252451]\n",
      " [ 0.56440468  1.006374  ]\n",
      " [-0.61504223 -0.55934812]\n",
      " ...\n",
      " [-1.54819288  0.87405945]\n",
      " [-0.64973185 -0.80192479]\n",
      " [-0.94979702 -0.41542704]]\n"
     ]
    }
   ],
   "source": [
    "print(x_test)"
   ]
  },
  {
   "cell_type": "markdown",
   "metadata": {
    "id": "v4S2fyIBYDcu"
   },
   "source": [
    "## Training the Random Forest Regression model on the whole dataset"
   ]
  },
  {
   "cell_type": "code",
   "execution_count": 98,
   "metadata": {
    "colab": {
     "base_uri": "https://localhost:8080/"
    },
    "executionInfo": {
     "elapsed": 19312,
     "status": "ok",
     "timestamp": 1632474421069,
     "user": {
      "displayName": "test mail",
      "photoUrl": "https://lh3.googleusercontent.com/a/default-user=s64",
      "userId": "14146835515533625183"
     },
     "user_tz": -330
    },
    "id": "FIKrshtI01_M",
    "outputId": "6c15ddb3-9e88-4397-b700-0dde0bcdd408"
   },
   "outputs": [
    {
     "data": {
      "text/plain": [
       "RandomForestRegressor(bootstrap=True, ccp_alpha=0.0, criterion='mse',\n",
       "                      max_depth=None, max_features='auto', max_leaf_nodes=None,\n",
       "                      max_samples=None, min_impurity_decrease=0.0,\n",
       "                      min_impurity_split=None, min_samples_leaf=1,\n",
       "                      min_samples_split=2, min_weight_fraction_leaf=0.0,\n",
       "                      n_estimators=1000, n_jobs=None, oob_score=False,\n",
       "                      random_state=0, verbose=0, warm_start=False)"
      ]
     },
     "execution_count": 98,
     "metadata": {},
     "output_type": "execute_result"
    }
   ],
   "source": [
    "from sklearn.ensemble import RandomForestRegressor\n",
    "regressor = RandomForestRegressor(n_estimators = 1000, random_state = 0)\n",
    "regressor.fit(x_train, y_train)"
   ]
  },
  {
   "cell_type": "code",
   "execution_count": 99,
   "metadata": {
    "executionInfo": {
     "elapsed": 887,
     "status": "ok",
     "timestamp": 1632474421945,
     "user": {
      "displayName": "test mail",
      "photoUrl": "https://lh3.googleusercontent.com/a/default-user=s64",
      "userId": "14146835515533625183"
     },
     "user_tz": -330
    },
    "id": "e5xI0qEoyw2P"
   },
   "outputs": [],
   "source": [
    "y_pred = regressor.predict(x_test)"
   ]
  },
  {
   "cell_type": "code",
   "execution_count": 100,
   "metadata": {
    "colab": {
     "base_uri": "https://localhost:8080/"
    },
    "executionInfo": {
     "elapsed": 36,
     "status": "ok",
     "timestamp": 1632474421947,
     "user": {
      "displayName": "test mail",
      "photoUrl": "https://lh3.googleusercontent.com/a/default-user=s64",
      "userId": "14146835515533625183"
     },
     "user_tz": -330
    },
    "id": "UP6iM_8X4Pjg",
    "outputId": "8051e5f3-3918-46b1-b238-871dacad1d1c"
   },
   "outputs": [
    {
     "data": {
      "text/plain": [
       "0.03912019550737145"
      ]
     },
     "execution_count": 100,
     "metadata": {},
     "output_type": "execute_result"
    }
   ],
   "source": [
    "from sklearn.metrics import r2_score\n",
    "r2_score(y_test, y_pred)"
   ]
  },
  {
   "cell_type": "markdown",
   "metadata": {
    "id": "8IbsXbK3YM4M"
   },
   "source": [
    "## Predicting a new result"
   ]
  },
  {
   "cell_type": "code",
   "execution_count": 110,
   "metadata": {
    "colab": {
     "base_uri": "https://localhost:8080/"
    },
    "executionInfo": {
     "elapsed": 366,
     "status": "ok",
     "timestamp": 1632474617646,
     "user": {
      "displayName": "test mail",
      "photoUrl": "https://lh3.googleusercontent.com/a/default-user=s64",
      "userId": "14146835515533625183"
     },
     "user_tz": -330
    },
    "id": "v4AysAlS1k2j",
    "outputId": "0c966861-0d81-4c1b-b953-71b3a23203ff"
   },
   "outputs": [
    {
     "name": "stdout",
     "output_type": "stream",
     "text": [
      "[3.32]\n"
     ]
    }
   ],
   "source": [
    "arr = [1199, 1799]\n",
    "res = regressor.predict(sc.transform([arr]))\n",
    "print(res)"
   ]
  },
  {
   "cell_type": "markdown",
   "metadata": {
    "id": "kLqF9yMbYTon"
   },
   "source": [
    "## Visualising the Random Forest Regression results (higher resolution)"
   ]
  },
  {
   "cell_type": "code",
   "execution_count": null,
   "metadata": {
    "executionInfo": {
     "elapsed": 27,
     "status": "aborted",
     "timestamp": 1632474421950,
     "user": {
      "displayName": "test mail",
      "photoUrl": "https://lh3.googleusercontent.com/a/default-user=s64",
      "userId": "14146835515533625183"
     },
     "user_tz": -330
    },
    "id": "UcjZz9OA12Us"
   },
   "outputs": [],
   "source": [
    "plt.figure(figsize = (24, 5))\n",
    "plt.plot(y_test, color = 'red', label = 'Actual Reliance Delivered Quantity')\n",
    "plt.plot(y_pred, color = 'blue', label = 'Predicted Reliance Delivered Quantity')\n",
    "plt.title('Reliance % Delivered Quantity')\n",
    "plt.xlabel('Time')\n",
    "plt.ylabel('% Delivered Quantity')\n",
    "plt.legend()\n",
    "plt.show()"
   ]
  }
 ],
 "metadata": {
  "colab": {
   "name": "random_forest_regression.ipynb",
   "provenance": [
    {
     "file_id": "1bqXQKwI48-BkEa0PfM0P7WCIaZ_eRFCG",
     "timestamp": 1620743163024
    }
   ]
  },
  "kernelspec": {
   "display_name": "Python 3",
   "language": "python",
   "name": "python3"
  },
  "language_info": {
   "codemirror_mode": {
    "name": "ipython",
    "version": 3
   },
   "file_extension": ".py",
   "mimetype": "text/x-python",
   "name": "python",
   "nbconvert_exporter": "python",
   "pygments_lexer": "ipython3",
   "version": "3.9.1"
  }
 },
 "nbformat": 4,
 "nbformat_minor": 1
}
